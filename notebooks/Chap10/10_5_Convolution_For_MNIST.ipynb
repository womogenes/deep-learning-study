{
  "cells": [
    {
      "cell_type": "markdown",
      "metadata": {
        "colab_type": "text",
        "id": "view-in-github"
      },
      "source": [
        "<a href=\"https://colab.research.google.com/github/udlbook/udlbook/blob/main/Notebooks/Chap10/10_5_Convolution_For_MNIST.ipynb\" target=\"_parent\"><img src=\"https://colab.research.google.com/assets/colab-badge.svg\" alt=\"Open In Colab\"/></a>"
      ]
    },
    {
      "cell_type": "markdown",
      "metadata": {
        "id": "t9vk9Elugvmi"
      },
      "source": [
        "# **Notebook 10.5: Convolution for MNIST**\n",
        "\n",
        "This notebook builds a proper network for 2D convolution.  It works with the MNIST dataset (figure 15.15a), which was the original classic dataset for classifying images.  The network will take a 28x28 grayscale image and classify it into one of 10 classes representing a digit.\n",
        "\n",
        "The code is adapted from https://nextjournal.com/gkoehler/pytorch-mnist\n",
        "\n",
        "Work through the cells below, running each cell in turn. In various places you will see the words \"TO DO\". Follow the instructions at these places and make predictions about what is going to happen or write code to complete the functions.\n",
        "\n",
        "Contact me at udlbookmail@gmail.com if you find any mistakes or have any suggestions.\n"
      ]
    },
    {
      "cell_type": "code",
      "execution_count": 43,
      "metadata": {
        "id": "YrXWAH7sUWvU"
      },
      "outputs": [],
      "source": [
        "import torch\n",
        "import torchvision\n",
        "import torch.nn as nn\n",
        "import torch.nn.functional as F\n",
        "import torch.optim as optim\n",
        "import matplotlib.pyplot as plt\n",
        "import random\n",
        "import numpy as np"
      ]
    },
    {
      "cell_type": "code",
      "execution_count": 5,
      "metadata": {
        "id": "wScBGXXFVadm"
      },
      "outputs": [
        {
          "name": "stdout",
          "output_type": "stream",
          "text": [
            "Downloading http://yann.lecun.com/exdb/mnist/train-images-idx3-ubyte.gz\n",
            "Downloading http://yann.lecun.com/exdb/mnist/train-images-idx3-ubyte.gz to ./files/MNIST\\raw\\train-images-idx3-ubyte.gz\n"
          ]
        },
        {
          "name": "stderr",
          "output_type": "stream",
          "text": [
            "100%|██████████| 9912422/9912422 [00:00<00:00, 19559076.22it/s]\n"
          ]
        },
        {
          "name": "stdout",
          "output_type": "stream",
          "text": [
            "Extracting ./files/MNIST\\raw\\train-images-idx3-ubyte.gz to ./files/MNIST\\raw\n",
            "\n",
            "Downloading http://yann.lecun.com/exdb/mnist/train-labels-idx1-ubyte.gz\n",
            "Downloading http://yann.lecun.com/exdb/mnist/train-labels-idx1-ubyte.gz to ./files/MNIST\\raw\\train-labels-idx1-ubyte.gz\n"
          ]
        },
        {
          "name": "stderr",
          "output_type": "stream",
          "text": [
            "100%|██████████| 28881/28881 [00:00<00:00, 9629228.44it/s]\n"
          ]
        },
        {
          "name": "stdout",
          "output_type": "stream",
          "text": [
            "Extracting ./files/MNIST\\raw\\train-labels-idx1-ubyte.gz to ./files/MNIST\\raw\n",
            "\n",
            "Downloading http://yann.lecun.com/exdb/mnist/t10k-images-idx3-ubyte.gz\n",
            "Downloading http://yann.lecun.com/exdb/mnist/t10k-images-idx3-ubyte.gz to ./files/MNIST\\raw\\t10k-images-idx3-ubyte.gz\n"
          ]
        },
        {
          "name": "stderr",
          "output_type": "stream",
          "text": [
            "100%|██████████| 1648877/1648877 [00:00<00:00, 14019305.02it/s]\n"
          ]
        },
        {
          "name": "stdout",
          "output_type": "stream",
          "text": [
            "Extracting ./files/MNIST\\raw\\t10k-images-idx3-ubyte.gz to ./files/MNIST\\raw\n",
            "\n",
            "Downloading http://yann.lecun.com/exdb/mnist/t10k-labels-idx1-ubyte.gz\n",
            "Downloading http://yann.lecun.com/exdb/mnist/t10k-labels-idx1-ubyte.gz to ./files/MNIST\\raw\\t10k-labels-idx1-ubyte.gz\n"
          ]
        },
        {
          "name": "stderr",
          "output_type": "stream",
          "text": [
            "100%|██████████| 4542/4542 [00:00<?, ?it/s]\n"
          ]
        },
        {
          "name": "stdout",
          "output_type": "stream",
          "text": [
            "Extracting ./files/MNIST\\raw\\t10k-labels-idx1-ubyte.gz to ./files/MNIST\\raw\n",
            "\n"
          ]
        }
      ],
      "source": [
        "# Run this once to load the train and test data straight into a dataloader class\n",
        "# that will provide the batches\n",
        "batch_size_train = 64\n",
        "batch_size_test = 1000\n",
        "train_loader = torch.utils.data.DataLoader(\n",
        "    torchvision.datasets.MNIST('./files/', train=True, download=True,\n",
        "                               transform=torchvision.transforms.Compose([\n",
        "                                   torchvision.transforms.ToTensor(),\n",
        "                                   torchvision.transforms.Normalize(\n",
        "                                       (0.1307,), (0.3081,))\n",
        "                               ])),\n",
        "    batch_size=batch_size_train, shuffle=True)\n",
        "\n",
        "test_loader = torch.utils.data.DataLoader(\n",
        "    torchvision.datasets.MNIST('./files/', train=False, download=True,\n",
        "                               transform=torchvision.transforms.Compose([\n",
        "                                   torchvision.transforms.ToTensor(),\n",
        "                                   torchvision.transforms.Normalize(\n",
        "                                       (0.1307,), (0.3081,))\n",
        "                               ])),\n",
        "    batch_size=batch_size_test, shuffle=True)"
      ]
    },
    {
      "cell_type": "code",
      "execution_count": 6,
      "metadata": {
        "id": "8bKADvLHbiV5"
      },
      "outputs": [
        {
          "data": {
            "image/png": "[encoded data removed]",
            "text/plain": [
              "<Figure size 640x480 with 6 Axes>"
            ]
          },
          "metadata": {},
          "output_type": "display_data"
        }
      ],
      "source": [
        "# Let's draw some of the training data\n",
        "examples = enumerate(test_loader)\n",
        "batch_idx, (example_data, example_targets) = next(examples)\n",
        "\n",
        "fig = plt.figure()\n",
        "for i in range(6):\n",
        "  plt.subplot(2,3,i+1)\n",
        "  plt.tight_layout()\n",
        "  plt.imshow(example_data[i][0], cmap='gray', interpolation='none')\n",
        "  plt.title(\"Ground Truth: {}\".format(example_targets[i]))\n",
        "  plt.xticks([])\n",
        "  plt.yticks([])\n",
        "plt.show()"
      ]
    },
    {
      "cell_type": "markdown",
      "metadata": {
        "id": "_sFvRDGrl4qe"
      },
      "source": [
        "Define the network.  This is a more typical way to define a network than the sequential structure.  We define a class for the network, and define the parameters in the constructor.  Then we use a function called forward to actually run the network.  It's easy to see how you might use residual connections in this format."
      ]
    },
    {
      "cell_type": "code",
      "execution_count": 61,
      "metadata": {
        "id": "EQkvw2KOPVl7"
      },
      "outputs": [],
      "source": [
        "from os import X_OK\n",
        "# TODO Change this class to implement\n",
        "# 1. A valid convolution with kernel size 5, 1 input channel and 10 output channels\n",
        "# 2. A max pooling operation over a 2x2 area\n",
        "# 3. A Relu\n",
        "# 4. A valid convolution with kernel size 5, 10 input channels and 20 output channels\n",
        "# 5. A 2D Dropout layer\n",
        "# 6. A max pooling operation over a 2x2 area\n",
        "# 7. A relu\n",
        "# 8. A flattening operation\n",
        "# 9. A fully connected layer mapping from (whatever dimensions we are at-- find out using .shape) to 50\n",
        "# 10. A ReLU\n",
        "# 11. A fully connected layer mapping from 50 to 10 dimensions\n",
        "# 12. A softmax function.\n",
        "\n",
        "# Replace this class which implements a minimal network (which still does okay)\n",
        "class Net(nn.Module):\n",
        "    def __init__(self):\n",
        "        super(Net, self).__init__()\n",
        "        self.conv1 = nn.Conv2d(kernel_size=5, in_channels=1, out_channels=10, padding=\"valid\")\n",
        "        self.pool1 = nn.MaxPool2d(kernel_size=2)\n",
        "        self.conv2 = nn.Conv2d(kernel_size=5, in_channels=10, out_channels=20, padding=\"valid\")\n",
        "        self.pool2 = nn.MaxPool2d(kernel_size=2)\n",
        "\n",
        "        self.flat1 = nn.Flatten()\n",
        "        \n",
        "        # Apparently 320 units remain\n",
        "        self.fc1 = nn.Linear(in_features=320, out_features=50)\n",
        "        self.fc2 = nn.Linear(in_features=50, out_features=10)\n",
        "\n",
        "    def forward(self, x):\n",
        "        x = self.conv1(x)\n",
        "        x = self.pool1(x)\n",
        "        x = F.relu(x)\n",
        "        x = self.conv2(x)\n",
        "        x = F.dropout2d(x, p=0.5)\n",
        "        x = self.pool2(x)\n",
        "        x = F.relu(x)\n",
        "        x = self.flat1(x)\n",
        "\n",
        "        x = self.fc1(x)\n",
        "        x = F.relu(x)\n",
        "        x = self.fc2(x)\n",
        "        x = F.softmax(x)\n",
        "        return x"
      ]
    },
    {
      "cell_type": "code",
      "execution_count": 62,
      "metadata": {
        "id": "qWZtkCZcU_dg"
      },
      "outputs": [],
      "source": [
        "# He initialization of weights\n",
        "def weights_init(layer_in):\n",
        "  if isinstance(layer_in, nn.Linear):\n",
        "    nn.init.kaiming_uniform_(layer_in.weight)\n",
        "    layer_in.bias.data.fill_(0.0)"
      ]
    },
    {
      "cell_type": "code",
      "execution_count": 63,
      "metadata": {
        "id": "FslroPJJffrh"
      },
      "outputs": [],
      "source": [
        "# Create network\n",
        "model = Net()\n",
        "# Initialize model weights\n",
        "model.apply(weights_init)\n",
        "# Define optimizer\n",
        "optimizer = optim.SGD(model.parameters(), lr=0.01, momentum=0.5)"
      ]
    },
    {
      "cell_type": "code",
      "execution_count": 64,
      "metadata": {
        "id": "xKQd9PzkQ766"
      },
      "outputs": [],
      "source": [
        "# Main training routine\n",
        "def train(epoch):\n",
        "  model.train()\n",
        "  # Get each\n",
        "  for batch_idx, (data, target) in enumerate(train_loader):\n",
        "    optimizer.zero_grad()\n",
        "    output = model(data)\n",
        "    loss = F.nll_loss(output, target)\n",
        "    loss.backward()\n",
        "    optimizer.step()\n",
        "    # Store results\n",
        "    if batch_idx % 10 == 0:\n",
        "      print('Train Epoch: {} [{}/{}]\\tLoss: {:.6f}'.format(\n",
        "        epoch, batch_idx * len(data), len(train_loader.dataset), loss.item()))"
      ]
    },
    {
      "cell_type": "code",
      "execution_count": 65,
      "metadata": {
        "id": "Byn-f7qWRLxX"
      },
      "outputs": [],
      "source": [
        "# Run on test data\n",
        "def test():\n",
        "  model.eval()\n",
        "  test_loss = 0\n",
        "  correct = 0\n",
        "  with torch.no_grad():\n",
        "    for data, target in test_loader:\n",
        "      output = model(data)\n",
        "      test_loss += F.nll_loss(output, target, size_average=False).item()\n",
        "      pred = output.data.max(1, keepdim=True)[1]\n",
        "      correct += pred.eq(target.data.view_as(pred)).sum()\n",
        "  test_loss /= len(test_loader.dataset)\n",
        "  print('\\nTest set: Avg. loss: {:.4f}, Accuracy: {}/{} ({:.0f}%)\\n'.format(\n",
        "    test_loss, correct, len(test_loader.dataset),\n",
        "    100. * correct / len(test_loader.dataset)))"
      ]
    },
    {
      "cell_type": "code",
      "execution_count": 66,
      "metadata": {
        "id": "YgLaex1pfhqz"
      },
      "outputs": [
        {
          "name": "stderr",
          "output_type": "stream",
          "text": [
            "C:\\Users\\willi\\AppData\\Local\\Temp\\ipykernel_20824\\1850460788.py:44: UserWarning: Implicit dimension choice for softmax has been deprecated. Change the call to include dim=X as an argument.\n",
            "  x = F.softmax(x)\n",
            "c:\\Users\\willi\\AppData\\Local\\Programs\\Python\\Python311\\Lib\\site-packages\\torch\\nn\\_reduction.py:42: UserWarning: size_average and reduce args will be deprecated, please use reduction='sum' instead.\n",
            "  warnings.warn(warning.format(ret))\n"
          ]
        },
        {
          "name": "stdout",
          "output_type": "stream",
          "text": [
            "\n",
            "Test set: Avg. loss: -0.0982, Accuracy: 970/10000 (10%)\n",
            "\n",
            "Train Epoch: 1 [0/60000]\tLoss: -0.107291\n",
            "Train Epoch: 1 [640/60000]\tLoss: -0.099880\n",
            "Train Epoch: 1 [1280/60000]\tLoss: -0.097461\n",
            "Train Epoch: 1 [1920/60000]\tLoss: -0.107285\n",
            "Train Epoch: 1 [2560/60000]\tLoss: -0.134060\n",
            "Train Epoch: 1 [3200/60000]\tLoss: -0.126069\n",
            "Train Epoch: 1 [3840/60000]\tLoss: -0.125235\n",
            "Train Epoch: 1 [4480/60000]\tLoss: -0.087022\n",
            "Train Epoch: 1 [5120/60000]\tLoss: -0.094201\n",
            "Train Epoch: 1 [5760/60000]\tLoss: -0.121055\n",
            "Train Epoch: 1 [6400/60000]\tLoss: -0.109126\n",
            "Train Epoch: 1 [7040/60000]\tLoss: -0.122508\n",
            "Train Epoch: 1 [7680/60000]\tLoss: -0.149281\n",
            "Train Epoch: 1 [8320/60000]\tLoss: -0.150521\n",
            "Train Epoch: 1 [8960/60000]\tLoss: -0.191664\n",
            "Train Epoch: 1 [9600/60000]\tLoss: -0.144772\n",
            "Train Epoch: 1 [10240/60000]\tLoss: -0.207258\n",
            "Train Epoch: 1 [10880/60000]\tLoss: -0.183953\n",
            "Train Epoch: 1 [11520/60000]\tLoss: -0.164995\n",
            "Train Epoch: 1 [12160/60000]\tLoss: -0.223418\n",
            "Train Epoch: 1 [12800/60000]\tLoss: -0.168419\n",
            "Train Epoch: 1 [13440/60000]\tLoss: -0.289046\n",
            "Train Epoch: 1 [14080/60000]\tLoss: -0.288499\n",
            "Train Epoch: 1 [14720/60000]\tLoss: -0.293727\n",
            "Train Epoch: 1 [15360/60000]\tLoss: -0.240421\n",
            "Train Epoch: 1 [16000/60000]\tLoss: -0.283798\n",
            "Train Epoch: 1 [16640/60000]\tLoss: -0.374131\n",
            "Train Epoch: 1 [17280/60000]\tLoss: -0.313798\n",
            "Train Epoch: 1 [17920/60000]\tLoss: -0.347890\n",
            "Train Epoch: 1 [18560/60000]\tLoss: -0.337045\n",
            "Train Epoch: 1 [19200/60000]\tLoss: -0.462386\n",
            "Train Epoch: 1 [19840/60000]\tLoss: -0.379232\n",
            "Train Epoch: 1 [20480/60000]\tLoss: -0.379778\n",
            "Train Epoch: 1 [21120/60000]\tLoss: -0.468951\n",
            "Train Epoch: 1 [21760/60000]\tLoss: -0.442437\n",
            "Train Epoch: 1 [22400/60000]\tLoss: -0.490884\n",
            "Train Epoch: 1 [23040/60000]\tLoss: -0.533925\n",
            "Train Epoch: 1 [23680/60000]\tLoss: -0.431766\n",
            "Train Epoch: 1 [24320/60000]\tLoss: -0.505244\n",
            "Train Epoch: 1 [24960/60000]\tLoss: -0.463206\n",
            "Train Epoch: 1 [25600/60000]\tLoss: -0.473887\n",
            "Train Epoch: 1 [26240/60000]\tLoss: -0.472359\n",
            "Train Epoch: 1 [26880/60000]\tLoss: -0.561437\n",
            "Train Epoch: 1 [27520/60000]\tLoss: -0.405801\n",
            "Train Epoch: 1 [28160/60000]\tLoss: -0.468279\n",
            "Train Epoch: 1 [28800/60000]\tLoss: -0.468313\n",
            "Train Epoch: 1 [29440/60000]\tLoss: -0.510674\n",
            "Train Epoch: 1 [30080/60000]\tLoss: -0.456134\n",
            "Train Epoch: 1 [30720/60000]\tLoss: -0.466868\n",
            "Train Epoch: 1 [31360/60000]\tLoss: -0.495224\n",
            "Train Epoch: 1 [32000/60000]\tLoss: -0.515464\n",
            "Train Epoch: 1 [32640/60000]\tLoss: -0.407595\n",
            "Train Epoch: 1 [33280/60000]\tLoss: -0.536902\n",
            "Train Epoch: 1 [33920/60000]\tLoss: -0.560742\n",
            "Train Epoch: 1 [34560/60000]\tLoss: -0.602964\n",
            "Train Epoch: 1 [35200/60000]\tLoss: -0.564364\n",
            "Train Epoch: 1 [35840/60000]\tLoss: -0.526314\n",
            "Train Epoch: 1 [36480/60000]\tLoss: -0.555142\n",
            "Train Epoch: 1 [37120/60000]\tLoss: -0.506929\n",
            "Train Epoch: 1 [37760/60000]\tLoss: -0.385289\n",
            "Train Epoch: 1 [38400/60000]\tLoss: -0.525860\n",
            "Train Epoch: 1 [39040/60000]\tLoss: -0.600423\n",
            "Train Epoch: 1 [39680/60000]\tLoss: -0.530839\n",
            "Train Epoch: 1 [40320/60000]\tLoss: -0.370408\n",
            "Train Epoch: 1 [40960/60000]\tLoss: -0.614656\n",
            "Train Epoch: 1 [41600/60000]\tLoss: -0.580886\n",
            "Train Epoch: 1 [42240/60000]\tLoss: -0.404901\n",
            "Train Epoch: 1 [42880/60000]\tLoss: -0.524608\n",
            "Train Epoch: 1 [43520/60000]\tLoss: -0.585041\n",
            "Train Epoch: 1 [44160/60000]\tLoss: -0.518630\n",
            "Train Epoch: 1 [44800/60000]\tLoss: -0.499595\n",
            "Train Epoch: 1 [45440/60000]\tLoss: -0.592984\n",
            "Train Epoch: 1 [46080/60000]\tLoss: -0.534891\n",
            "Train Epoch: 1 [46720/60000]\tLoss: -0.418077\n",
            "Train Epoch: 1 [47360/60000]\tLoss: -0.590057\n",
            "Train Epoch: 1 [48000/60000]\tLoss: -0.632480\n",
            "Train Epoch: 1 [48640/60000]\tLoss: -0.420543\n",
            "Train Epoch: 1 [49280/60000]\tLoss: -0.603573\n",
            "Train Epoch: 1 [49920/60000]\tLoss: -0.530014\n",
            "Train Epoch: 1 [50560/60000]\tLoss: -0.570654\n",
            "Train Epoch: 1 [51200/60000]\tLoss: -0.512703\n",
            "Train Epoch: 1 [51840/60000]\tLoss: -0.526271\n",
            "Train Epoch: 1 [52480/60000]\tLoss: -0.502797\n",
            "Train Epoch: 1 [53120/60000]\tLoss: -0.500027\n",
            "Train Epoch: 1 [53760/60000]\tLoss: -0.569617\n",
            "Train Epoch: 1 [54400/60000]\tLoss: -0.579374\n",
            "Train Epoch: 1 [55040/60000]\tLoss: -0.496276\n",
            "Train Epoch: 1 [55680/60000]\tLoss: -0.568309\n",
            "Train Epoch: 1 [56320/60000]\tLoss: -0.602014\n",
            "Train Epoch: 1 [56960/60000]\tLoss: -0.648597\n",
            "Train Epoch: 1 [57600/60000]\tLoss: -0.520890\n",
            "Train Epoch: 1 [58240/60000]\tLoss: -0.687140\n",
            "Train Epoch: 1 [58880/60000]\tLoss: -0.522803\n",
            "Train Epoch: 1 [59520/60000]\tLoss: -0.589093\n",
            "\n",
            "Test set: Avg. loss: -0.5875, Accuracy: 5984/10000 (60%)\n",
            "\n",
            "Train Epoch: 2 [0/60000]\tLoss: -0.637126\n",
            "Train Epoch: 2 [640/60000]\tLoss: -0.552102\n",
            "Train Epoch: 2 [1280/60000]\tLoss: -0.596605\n",
            "Train Epoch: 2 [1920/60000]\tLoss: -0.580939\n",
            "Train Epoch: 2 [2560/60000]\tLoss: -0.633402\n",
            "Train Epoch: 2 [3200/60000]\tLoss: -0.651584\n",
            "Train Epoch: 2 [3840/60000]\tLoss: -0.698598\n",
            "Train Epoch: 2 [4480/60000]\tLoss: -0.613627\n",
            "Train Epoch: 2 [5120/60000]\tLoss: -0.612743\n",
            "Train Epoch: 2 [5760/60000]\tLoss: -0.651367\n",
            "Train Epoch: 2 [6400/60000]\tLoss: -0.500147\n",
            "Train Epoch: 2 [7040/60000]\tLoss: -0.637284\n",
            "Train Epoch: 2 [7680/60000]\tLoss: -0.549894\n",
            "Train Epoch: 2 [8320/60000]\tLoss: -0.587210\n",
            "Train Epoch: 2 [8960/60000]\tLoss: -0.703952\n",
            "Train Epoch: 2 [9600/60000]\tLoss: -0.613457\n",
            "Train Epoch: 2 [10240/60000]\tLoss: -0.583758\n",
            "Train Epoch: 2 [10880/60000]\tLoss: -0.681365\n",
            "Train Epoch: 2 [11520/60000]\tLoss: -0.591109\n",
            "Train Epoch: 2 [12160/60000]\tLoss: -0.678466\n",
            "Train Epoch: 2 [12800/60000]\tLoss: -0.713972\n",
            "Train Epoch: 2 [13440/60000]\tLoss: -0.796975\n",
            "Train Epoch: 2 [14080/60000]\tLoss: -0.658870\n",
            "Train Epoch: 2 [14720/60000]\tLoss: -0.668984\n",
            "Train Epoch: 2 [15360/60000]\tLoss: -0.646393\n",
            "Train Epoch: 2 [16000/60000]\tLoss: -0.679253\n",
            "Train Epoch: 2 [16640/60000]\tLoss: -0.683228\n",
            "Train Epoch: 2 [17280/60000]\tLoss: -0.746206\n",
            "Train Epoch: 2 [17920/60000]\tLoss: -0.736164\n",
            "Train Epoch: 2 [18560/60000]\tLoss: -0.627803\n",
            "Train Epoch: 2 [19200/60000]\tLoss: -0.701982\n",
            "Train Epoch: 2 [19840/60000]\tLoss: -0.667562\n",
            "Train Epoch: 2 [20480/60000]\tLoss: -0.586840\n",
            "Train Epoch: 2 [21120/60000]\tLoss: -0.689657\n",
            "Train Epoch: 2 [21760/60000]\tLoss: -0.610745\n",
            "Train Epoch: 2 [22400/60000]\tLoss: -0.704927\n",
            "Train Epoch: 2 [23040/60000]\tLoss: -0.723981\n",
            "Train Epoch: 2 [23680/60000]\tLoss: -0.643831\n",
            "Train Epoch: 2 [24320/60000]\tLoss: -0.758739\n",
            "Train Epoch: 2 [24960/60000]\tLoss: -0.763479\n",
            "Train Epoch: 2 [25600/60000]\tLoss: -0.583634\n",
            "Train Epoch: 2 [26240/60000]\tLoss: -0.742155\n",
            "Train Epoch: 2 [26880/60000]\tLoss: -0.708342\n",
            "Train Epoch: 2 [27520/60000]\tLoss: -0.711651\n",
            "Train Epoch: 2 [28160/60000]\tLoss: -0.677453\n",
            "Train Epoch: 2 [28800/60000]\tLoss: -0.683138\n",
            "Train Epoch: 2 [29440/60000]\tLoss: -0.704831\n",
            "Train Epoch: 2 [30080/60000]\tLoss: -0.748414\n",
            "Train Epoch: 2 [30720/60000]\tLoss: -0.671304\n",
            "Train Epoch: 2 [31360/60000]\tLoss: -0.782955\n",
            "Train Epoch: 2 [32000/60000]\tLoss: -0.722374\n",
            "Train Epoch: 2 [32640/60000]\tLoss: -0.631596\n",
            "Train Epoch: 2 [33280/60000]\tLoss: -0.683534\n",
            "Train Epoch: 2 [33920/60000]\tLoss: -0.740517\n",
            "Train Epoch: 2 [34560/60000]\tLoss: -0.732993\n",
            "Train Epoch: 2 [35200/60000]\tLoss: -0.775311\n",
            "Train Epoch: 2 [35840/60000]\tLoss: -0.772453\n",
            "Train Epoch: 2 [36480/60000]\tLoss: -0.719683\n",
            "Train Epoch: 2 [37120/60000]\tLoss: -0.739580\n",
            "Train Epoch: 2 [37760/60000]\tLoss: -0.779216\n",
            "Train Epoch: 2 [38400/60000]\tLoss: -0.641792\n",
            "Train Epoch: 2 [39040/60000]\tLoss: -0.756472\n",
            "Train Epoch: 2 [39680/60000]\tLoss: -0.716829\n",
            "Train Epoch: 2 [40320/60000]\tLoss: -0.693223\n",
            "Train Epoch: 2 [40960/60000]\tLoss: -0.744056\n",
            "Train Epoch: 2 [41600/60000]\tLoss: -0.758276\n",
            "Train Epoch: 2 [42240/60000]\tLoss: -0.742683\n",
            "Train Epoch: 2 [42880/60000]\tLoss: -0.764702\n",
            "Train Epoch: 2 [43520/60000]\tLoss: -0.696376\n",
            "Train Epoch: 2 [44160/60000]\tLoss: -0.732889\n",
            "Train Epoch: 2 [44800/60000]\tLoss: -0.764524\n",
            "Train Epoch: 2 [45440/60000]\tLoss: -0.745293\n",
            "Train Epoch: 2 [46080/60000]\tLoss: -0.759736\n",
            "Train Epoch: 2 [46720/60000]\tLoss: -0.812087\n",
            "Train Epoch: 2 [47360/60000]\tLoss: -0.851156\n",
            "Train Epoch: 2 [48000/60000]\tLoss: -0.724870\n",
            "Train Epoch: 2 [48640/60000]\tLoss: -0.742952\n",
            "Train Epoch: 2 [49280/60000]\tLoss: -0.789237\n",
            "Train Epoch: 2 [49920/60000]\tLoss: -0.806829\n",
            "Train Epoch: 2 [50560/60000]\tLoss: -0.807965\n",
            "Train Epoch: 2 [51200/60000]\tLoss: -0.742753\n",
            "Train Epoch: 2 [51840/60000]\tLoss: -0.820493\n",
            "Train Epoch: 2 [52480/60000]\tLoss: -0.714183\n",
            "Train Epoch: 2 [53120/60000]\tLoss: -0.789533\n",
            "Train Epoch: 2 [53760/60000]\tLoss: -0.700419\n",
            "Train Epoch: 2 [54400/60000]\tLoss: -0.774231\n",
            "Train Epoch: 2 [55040/60000]\tLoss: -0.763655\n",
            "Train Epoch: 2 [55680/60000]\tLoss: -0.755983\n",
            "Train Epoch: 2 [56320/60000]\tLoss: -0.852017\n",
            "Train Epoch: 2 [56960/60000]\tLoss: -0.815417\n",
            "Train Epoch: 2 [57600/60000]\tLoss: -0.871917\n",
            "Train Epoch: 2 [58240/60000]\tLoss: -0.809863\n",
            "Train Epoch: 2 [58880/60000]\tLoss: -0.801754\n",
            "Train Epoch: 2 [59520/60000]\tLoss: -0.750536\n",
            "\n",
            "Test set: Avg. loss: -0.7914, Accuracy: 8016/10000 (80%)\n",
            "\n",
            "Train Epoch: 3 [0/60000]\tLoss: -0.778325\n",
            "Train Epoch: 3 [640/60000]\tLoss: -0.737544\n",
            "Train Epoch: 3 [1280/60000]\tLoss: -0.724639\n",
            "Train Epoch: 3 [1920/60000]\tLoss: -0.819726\n",
            "Train Epoch: 3 [2560/60000]\tLoss: -0.801941\n",
            "Train Epoch: 3 [3200/60000]\tLoss: -0.748985\n",
            "Train Epoch: 3 [3840/60000]\tLoss: -0.786636\n",
            "Train Epoch: 3 [4480/60000]\tLoss: -0.810271\n",
            "Train Epoch: 3 [5120/60000]\tLoss: -0.848842\n",
            "Train Epoch: 3 [5760/60000]\tLoss: -0.873818\n",
            "Train Epoch: 3 [6400/60000]\tLoss: -0.752588\n",
            "Train Epoch: 3 [7040/60000]\tLoss: -0.717359\n",
            "Train Epoch: 3 [7680/60000]\tLoss: -0.785832\n",
            "Train Epoch: 3 [8320/60000]\tLoss: -0.800630\n",
            "Train Epoch: 3 [8960/60000]\tLoss: -0.824667\n",
            "Train Epoch: 3 [9600/60000]\tLoss: -0.833115\n",
            "Train Epoch: 3 [10240/60000]\tLoss: -0.880574\n",
            "Train Epoch: 3 [10880/60000]\tLoss: -0.783380\n",
            "Train Epoch: 3 [11520/60000]\tLoss: -0.772138\n",
            "Train Epoch: 3 [12160/60000]\tLoss: -0.775159\n",
            "Train Epoch: 3 [12800/60000]\tLoss: -0.681104\n",
            "Train Epoch: 3 [13440/60000]\tLoss: -0.809201\n",
            "Train Epoch: 3 [14080/60000]\tLoss: -0.729205\n",
            "Train Epoch: 3 [14720/60000]\tLoss: -0.673895\n",
            "Train Epoch: 3 [15360/60000]\tLoss: -0.808448\n",
            "Train Epoch: 3 [16000/60000]\tLoss: -0.897067\n",
            "Train Epoch: 3 [16640/60000]\tLoss: -0.742085\n",
            "Train Epoch: 3 [17280/60000]\tLoss: -0.815154\n",
            "Train Epoch: 3 [17920/60000]\tLoss: -0.761903\n",
            "Train Epoch: 3 [18560/60000]\tLoss: -0.742661\n",
            "Train Epoch: 3 [19200/60000]\tLoss: -0.840805\n",
            "Train Epoch: 3 [19840/60000]\tLoss: -0.823987\n",
            "Train Epoch: 3 [20480/60000]\tLoss: -0.881064\n",
            "Train Epoch: 3 [21120/60000]\tLoss: -0.845486\n",
            "Train Epoch: 3 [21760/60000]\tLoss: -0.800944\n",
            "Train Epoch: 3 [22400/60000]\tLoss: -0.764347\n",
            "Train Epoch: 3 [23040/60000]\tLoss: -0.783403\n",
            "Train Epoch: 3 [23680/60000]\tLoss: -0.756395\n",
            "Train Epoch: 3 [24320/60000]\tLoss: -0.713314\n",
            "Train Epoch: 3 [24960/60000]\tLoss: -0.774158\n",
            "Train Epoch: 3 [25600/60000]\tLoss: -0.769098\n",
            "Train Epoch: 3 [26240/60000]\tLoss: -0.774398\n",
            "Train Epoch: 3 [26880/60000]\tLoss: -0.777946\n",
            "Train Epoch: 3 [27520/60000]\tLoss: -0.786461\n",
            "Train Epoch: 3 [28160/60000]\tLoss: -0.845961\n",
            "Train Epoch: 3 [28800/60000]\tLoss: -0.796578\n",
            "Train Epoch: 3 [29440/60000]\tLoss: -0.810374\n",
            "Train Epoch: 3 [30080/60000]\tLoss: -0.810228\n",
            "Train Epoch: 3 [30720/60000]\tLoss: -0.724560\n",
            "Train Epoch: 3 [31360/60000]\tLoss: -0.794832\n",
            "Train Epoch: 3 [32000/60000]\tLoss: -0.756219\n",
            "Train Epoch: 3 [32640/60000]\tLoss: -0.762130\n",
            "Train Epoch: 3 [33280/60000]\tLoss: -0.733369\n",
            "Train Epoch: 3 [33920/60000]\tLoss: -0.800157\n",
            "Train Epoch: 3 [34560/60000]\tLoss: -0.842398\n",
            "Train Epoch: 3 [35200/60000]\tLoss: -0.831487\n",
            "Train Epoch: 3 [35840/60000]\tLoss: -0.836890\n",
            "Train Epoch: 3 [36480/60000]\tLoss: -0.809769\n",
            "Train Epoch: 3 [37120/60000]\tLoss: -0.887849\n",
            "Train Epoch: 3 [37760/60000]\tLoss: -0.728951\n",
            "Train Epoch: 3 [38400/60000]\tLoss: -0.805596\n",
            "Train Epoch: 3 [39040/60000]\tLoss: -0.869335\n",
            "Train Epoch: 3 [39680/60000]\tLoss: -0.839436\n",
            "Train Epoch: 3 [40320/60000]\tLoss: -0.916326\n",
            "Train Epoch: 3 [40960/60000]\tLoss: -0.847550\n",
            "Train Epoch: 3 [41600/60000]\tLoss: -0.851005\n",
            "Train Epoch: 3 [42240/60000]\tLoss: -0.782871\n",
            "Train Epoch: 3 [42880/60000]\tLoss: -0.847172\n",
            "Train Epoch: 3 [43520/60000]\tLoss: -0.809281\n",
            "Train Epoch: 3 [44160/60000]\tLoss: -0.905387\n",
            "Train Epoch: 3 [44800/60000]\tLoss: -0.859776\n",
            "Train Epoch: 3 [45440/60000]\tLoss: -0.775023\n",
            "Train Epoch: 3 [46080/60000]\tLoss: -0.877924\n",
            "Train Epoch: 3 [46720/60000]\tLoss: -0.850150\n",
            "Train Epoch: 3 [47360/60000]\tLoss: -0.743761\n",
            "Train Epoch: 3 [48000/60000]\tLoss: -0.793203\n",
            "Train Epoch: 3 [48640/60000]\tLoss: -0.865274\n",
            "Train Epoch: 3 [49280/60000]\tLoss: -0.833218\n",
            "Train Epoch: 3 [49920/60000]\tLoss: -0.796325\n",
            "Train Epoch: 3 [50560/60000]\tLoss: -0.811145\n",
            "Train Epoch: 3 [51200/60000]\tLoss: -0.817404\n",
            "Train Epoch: 3 [51840/60000]\tLoss: -0.890902\n",
            "Train Epoch: 3 [52480/60000]\tLoss: -0.787763\n",
            "Train Epoch: 3 [53120/60000]\tLoss: -0.762551\n",
            "Train Epoch: 3 [53760/60000]\tLoss: -0.770660\n",
            "Train Epoch: 3 [54400/60000]\tLoss: -0.818876\n",
            "Train Epoch: 3 [55040/60000]\tLoss: -0.775490\n",
            "Train Epoch: 3 [55680/60000]\tLoss: -0.848755\n",
            "Train Epoch: 3 [56320/60000]\tLoss: -0.757199\n",
            "Train Epoch: 3 [56960/60000]\tLoss: -0.803382\n",
            "Train Epoch: 3 [57600/60000]\tLoss: -0.821819\n",
            "Train Epoch: 3 [58240/60000]\tLoss: -0.839525\n",
            "Train Epoch: 3 [58880/60000]\tLoss: -0.820457\n",
            "Train Epoch: 3 [59520/60000]\tLoss: -0.879248\n",
            "\n",
            "Test set: Avg. loss: -0.8243, Accuracy: 8301/10000 (83%)\n",
            "\n"
          ]
        }
      ],
      "source": [
        "# Get initial performance\n",
        "test()\n",
        "# Train for three epochs\n",
        "n_epochs = 3\n",
        "for epoch in range(1, n_epochs + 1):\n",
        "  train(epoch)\n",
        "  test()"
      ]
    },
    {
      "cell_type": "code",
      "execution_count": 67,
      "metadata": {
        "id": "o7fRUAy9Se1B"
      },
      "outputs": [
        {
          "name": "stderr",
          "output_type": "stream",
          "text": [
            "C:\\Users\\willi\\AppData\\Local\\Temp\\ipykernel_20824\\1850460788.py:44: UserWarning: Implicit dimension choice for softmax has been deprecated. Change the call to include dim=X as an argument.\n",
            "  x = F.softmax(x)\n"
          ]
        },
        {
          "data": {
            "image/png": "[encoded data removed]",
            "text/plain": [
              "<Figure size 640x480 with 10 Axes>"
            ]
          },
          "metadata": {},
          "output_type": "display_data"
        }
      ],
      "source": [
        "# Run network on data we got before and show predictions\n",
        "output = model(example_data)\n",
        "\n",
        "fig = plt.figure()\n",
        "for i in range(10):\n",
        "  plt.subplot(5,5,i+1)\n",
        "  plt.tight_layout()\n",
        "  plt.imshow(example_data[i][0], cmap='gray', interpolation='none')\n",
        "  plt.title(\"Prediction: {}\".format(\n",
        "    output.data.max(1, keepdim=True)[1][i].item()))\n",
        "  plt.xticks([])\n",
        "  plt.yticks([])\n",
        "plt.show()"
      ]
    }
  ],
  "metadata": {
    "colab": {
      "authorship_tag": "ABX9TyNAcc98STMeyQgh9SbVHWG+",
      "include_colab_link": true,
      "provenance": []
    },
    "kernelspec": {
      "display_name": "Python 3",
      "name": "python3"
    },
    "language_info": {
      "codemirror_mode": {
        "name": "ipython",
        "version": 3
      },
      "file_extension": ".py",
      "mimetype": "text/x-python",
      "name": "python",
      "nbconvert_exporter": "python",
      "pygments_lexer": "ipython3",
      "version": "3.11.4"
    }
  },
  "nbformat": 4,
  "nbformat_minor": 0
}
