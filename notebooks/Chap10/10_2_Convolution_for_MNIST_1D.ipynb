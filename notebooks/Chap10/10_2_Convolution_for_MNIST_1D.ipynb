{
  "cells": [
    {
      "cell_type": "markdown",
      "metadata": {
        "colab_type": "text",
        "id": "view-in-github"
      },
      "source": [
        "<a href=\"https://colab.research.google.com/github/udlbook/udlbook/blob/main/Notebooks/Chap10/10_2_Convolution_for_MNIST_1D.ipynb\" target=\"_parent\"><img src=\"https://colab.research.google.com/assets/colab-badge.svg\" alt=\"Open In Colab\"/></a>"
      ]
    },
    {
      "cell_type": "markdown",
      "metadata": {
        "id": "t9vk9Elugvmi"
      },
      "source": [
        "# **Notebook 10.2: Convolution for MNIST-1D**\n",
        "\n",
        "This notebook investigates a 1D convolutional network for MNIST-1D as in figure 10.7 and 10.8a.\n",
        "\n",
        "Work through the cells below, running each cell in turn. In various places you will see the words \"TO DO\". Follow the instructions at these places and make predictions about what is going to happen or write code to complete the functions.\n",
        "\n",
        "Contact me at udlbookmail@gmail.com if you find any mistakes or have any suggestions.\n",
        "\n"
      ]
    },
    {
      "cell_type": "code",
      "execution_count": 1,
      "metadata": {
        "id": "D5yLObtZCi9J"
      },
      "outputs": [
        {
          "name": "stderr",
          "output_type": "stream",
          "text": [
            "Cloning into 'mnist1d'...\n"
          ]
        }
      ],
      "source": [
        "# Run this if you're in a Colab to make a local copy of the MNIST 1D repository\n",
        "!git clone https://github.com/greydanus/mnist1d"
      ]
    },
    {
      "cell_type": "code",
      "execution_count": 2,
      "metadata": {
        "id": "YrXWAH7sUWvU"
      },
      "outputs": [],
      "source": [
        "import numpy as np\n",
        "import os\n",
        "import torch, torch.nn as nn\n",
        "from torch.utils.data import TensorDataset, DataLoader\n",
        "from torch.optim.lr_scheduler import StepLR\n",
        "import matplotlib.pyplot as plt\n",
        "import mnist1d\n",
        "import random"
      ]
    },
    {
      "cell_type": "code",
      "execution_count": 3,
      "metadata": {
        "id": "twI72ZCrCt5z"
      },
      "outputs": [
        {
          "name": "stdout",
          "output_type": "stream",
          "text": [
            "Did or could not load data from ./mnist1d_data.pkl. Rebuilding dataset...\n",
            "Examples in training set: 4000\n",
            "Examples in test set: 1000\n",
            "Length of each example: 40\n"
          ]
        }
      ],
      "source": [
        "args = mnist1d.data.get_dataset_args()\n",
        "data = mnist1d.data.get_dataset(args, path='./mnist1d_data.pkl', download=False, regenerate=False)\n",
        "\n",
        "# The training and test input and outputs are in\n",
        "# data['x'], data['y'], data['x_test'], and data['y_test']\n",
        "print(\"Examples in training set: {}\".format(len(data['y'])))\n",
        "print(\"Examples in test set: {}\".format(len(data['y_test'])))\n",
        "print(\"Length of each example: {}\".format(data['x'].shape[-1]))"
      ]
    },
    {
      "cell_type": "code",
      "execution_count": 4,
      "metadata": {
        "id": "8bKADvLHbiV5"
      },
      "outputs": [
        {
          "name": "stdout",
          "output_type": "stream",
          "text": [
            "Train data: 4000 examples (columns), each of which has 40 dimensions (rows)\n",
            "Validation data: 1000 examples (columns), each of which has 40 dimensions (rows)\n"
          ]
        }
      ],
      "source": [
        "# Load in the data\n",
        "train_data_x = data['x'].transpose()\n",
        "train_data_y = data['y']\n",
        "val_data_x = data['x_test'].transpose()\n",
        "val_data_y = data['y_test']\n",
        "# Print out sizes\n",
        "print(\"Train data: %d examples (columns), each of which has %d dimensions (rows)\"%((train_data_x.shape[1],train_data_x.shape[0])))\n",
        "print(\"Validation data: %d examples (columns), each of which has %d dimensions (rows)\"%((val_data_x.shape[1],val_data_x.shape[0])))"
      ]
    },
    {
      "cell_type": "markdown",
      "metadata": {
        "id": "_sFvRDGrl4qe"
      },
      "source": [
        "Define the network"
      ]
    },
    {
      "cell_type": "code",
      "execution_count": 14,
      "metadata": {
        "id": "FslroPJJffrh"
      },
      "outputs": [],
      "source": [
        "# There are 40 input dimensions and 10 output dimensions for this data\n",
        "# The inputs correspond to the 40 offsets in the MNIST1D template.\n",
        "D_i = 40\n",
        "# The outputs correspond to the 10 digits\n",
        "D_o = 10\n",
        "\n",
        "# TODO Create a model with the following layers\n",
        "# 1. Convolutional layer, (input=length 40 and 1 channel, kernel size 3, stride 2, padding=\"valid\", 15 output channels )\n",
        "# 2. ReLU\n",
        "# 3. Convolutional layer, (input=length 19 and 15 channels, kernel size 3, stride 2, padding=\"valid\", 15 output channels )\n",
        "# 4. ReLU\n",
        "# 5. Convolutional layer, (input=length 9 and 15 channels, kernel size 3, stride 2, padding=\"valid\", 15 output channels)\n",
        "# 6. ReLU\n",
        "# 7. Flatten (converts 4x15) to length 60\n",
        "# 8. Linear layer (input size = 60, output size = 10)\n",
        "# References:\n",
        "# https://pytorch.org/docs/1.13/generated/torch.nn.Conv1d.html?highlight=conv1d#torch.nn.Conv1d\n",
        "# https://pytorch.org/docs/stable/generated/torch.nn.Flatten.html\n",
        "# https://pytorch.org/docs/1.13/generated/torch.nn.Linear.html?highlight=linear#torch.nn.Linear\n",
        "\n",
        "# NOTE THAT THE CONVOLUTIONAL LAYERS NEED TO TAKE THE NUMBER OF INPUT CHANNELS AS A PARAMETER\n",
        "# AND NOT THE INPUT SIZE.\n",
        "\n",
        "# Replace the following function:\n",
        "model = nn.Sequential(\n",
        "    nn.Conv1d(in_channels=1, out_channels=15, kernel_size=3, stride=2, padding=\"valid\"),\n",
        "    nn.ReLU(),\n",
        "    nn.Conv1d(in_channels=15, out_channels=15, kernel_size=3, stride=2, padding=\"valid\"),\n",
        "    nn.ReLU(),\n",
        "    nn.Conv1d(in_channels=15, out_channels=15, kernel_size=3, stride=2, padding=\"valid\"),\n",
        "    nn.Flatten(),\n",
        "    nn.Linear(in_features=60, out_features=10)\n",
        ")"
      ]
    },
    {
      "cell_type": "code",
      "execution_count": 15,
      "metadata": {
        "id": "YgLaex1pfhqz"
      },
      "outputs": [],
      "source": [
        "# He initialization of weights\n",
        "def weights_init(layer_in):\n",
        "  if isinstance(layer_in, nn.Linear):\n",
        "    nn.init.kaiming_uniform_(layer_in.weight)\n",
        "    layer_in.bias.data.fill_(0.0)"
      ]
    },
    {
      "cell_type": "code",
      "execution_count": 16,
      "metadata": {
        "id": "NYw8I_3mmX5c"
      },
      "outputs": [
        {
          "name": "stdout",
          "output_type": "stream",
          "text": [
            "Epoch     0, train loss 1.716961, train error 69.20,  val loss 1.728516, percent error 71.10\n",
            "Epoch     1, train loss 1.441101, train error 58.47,  val loss 1.443394, percent error 59.40\n",
            "Epoch     2, train loss 1.316284, train error 52.25,  val loss 1.318461, percent error 54.00\n",
            "Epoch     3, train loss 1.242678, train error 50.50,  val loss 1.263403, percent error 53.50\n",
            "Epoch     4, train loss 1.207491, train error 49.78,  val loss 1.261355, percent error 51.80\n",
            "Epoch     5, train loss 1.183942, train error 45.78,  val loss 1.210987, percent error 47.50\n",
            "Epoch     6, train loss 0.946017, train error 37.10,  val loss 0.983373, percent error 39.80\n",
            "Epoch     7, train loss 0.836786, train error 31.40,  val loss 0.887398, percent error 35.40\n",
            "Epoch     8, train loss 0.708319, train error 27.53,  val loss 0.768842, percent error 29.30\n",
            "Epoch     9, train loss 0.602825, train error 22.70,  val loss 0.663814, percent error 25.50\n",
            "Epoch    10, train loss 0.572621, train error 21.80,  val loss 0.642054, percent error 25.90\n",
            "Epoch    11, train loss 0.592053, train error 22.32,  val loss 0.627008, percent error 23.10\n",
            "Epoch    12, train loss 0.467438, train error 17.05,  val loss 0.552464, percent error 20.30\n",
            "Epoch    13, train loss 0.456813, train error 16.85,  val loss 0.551013, percent error 18.60\n",
            "Epoch    14, train loss 0.380318, train error 13.55,  val loss 0.471987, percent error 15.50\n",
            "Epoch    15, train loss 0.353085, train error 12.80,  val loss 0.461117, percent error 16.20\n",
            "Epoch    16, train loss 0.398559, train error 14.78,  val loss 0.494683, percent error 17.20\n",
            "Epoch    17, train loss 0.287576, train error 10.38,  val loss 0.413854, percent error 14.10\n",
            "Epoch    18, train loss 0.353033, train error 12.20,  val loss 0.479936, percent error 15.00\n",
            "Epoch    19, train loss 0.306465, train error 10.28,  val loss 0.429615, percent error 13.90\n",
            "Epoch    20, train loss 0.194115, train error 6.40,  val loss 0.329092, percent error 10.80\n",
            "Epoch    21, train loss 0.170592, train error 5.22,  val loss 0.315570, percent error 9.70\n",
            "Epoch    22, train loss 0.173236, train error 5.82,  val loss 0.304329, percent error 8.90\n",
            "Epoch    23, train loss 0.172891, train error 5.65,  val loss 0.315010, percent error 10.20\n",
            "Epoch    24, train loss 0.159716, train error 5.03,  val loss 0.309857, percent error 10.00\n",
            "Epoch    25, train loss 0.149766, train error 4.72,  val loss 0.329730, percent error 10.20\n",
            "Epoch    26, train loss 0.153797, train error 5.30,  val loss 0.342758, percent error 11.40\n",
            "Epoch    27, train loss 0.143503, train error 4.70,  val loss 0.326538, percent error 9.80\n",
            "Epoch    28, train loss 0.143064, train error 4.88,  val loss 0.330807, percent error 10.90\n",
            "Epoch    29, train loss 0.142754, train error 4.78,  val loss 0.343762, percent error 9.80\n",
            "Epoch    30, train loss 0.166280, train error 5.90,  val loss 0.404180, percent error 12.00\n",
            "Epoch    31, train loss 0.153911, train error 5.38,  val loss 0.343456, percent error 10.60\n",
            "Epoch    32, train loss 0.138527, train error 4.68,  val loss 0.332970, percent error 9.30\n",
            "Epoch    33, train loss 0.118185, train error 3.80,  val loss 0.331305, percent error 10.10\n",
            "Epoch    34, train loss 0.125647, train error 4.22,  val loss 0.367533, percent error 10.40\n",
            "Epoch    35, train loss 0.111494, train error 3.60,  val loss 0.334355, percent error 9.70\n",
            "Epoch    36, train loss 0.194397, train error 6.25,  val loss 0.423990, percent error 11.90\n",
            "Epoch    37, train loss 0.126616, train error 4.32,  val loss 0.369197, percent error 9.40\n",
            "Epoch    38, train loss 0.109594, train error 3.65,  val loss 0.369720, percent error 9.90\n",
            "Epoch    39, train loss 0.113532, train error 3.85,  val loss 0.371719, percent error 9.30\n",
            "Epoch    40, train loss 0.087688, train error 2.43,  val loss 0.337406, percent error 9.40\n",
            "Epoch    41, train loss 0.088503, train error 2.50,  val loss 0.349540, percent error 9.10\n",
            "Epoch    42, train loss 0.085492, train error 2.38,  val loss 0.349517, percent error 9.80\n",
            "Epoch    43, train loss 0.083939, train error 2.47,  val loss 0.349039, percent error 9.00\n",
            "Epoch    44, train loss 0.080875, train error 2.32,  val loss 0.355483, percent error 9.20\n",
            "Epoch    45, train loss 0.080592, train error 2.28,  val loss 0.350026, percent error 9.20\n",
            "Epoch    46, train loss 0.082911, train error 2.43,  val loss 0.368394, percent error 9.20\n",
            "Epoch    47, train loss 0.075649, train error 2.03,  val loss 0.353899, percent error 9.20\n",
            "Epoch    48, train loss 0.076403, train error 2.07,  val loss 0.365718, percent error 9.20\n",
            "Epoch    49, train loss 0.071938, train error 1.88,  val loss 0.366344, percent error 9.50\n",
            "Epoch    50, train loss 0.069437, train error 1.78,  val loss 0.356969, percent error 9.60\n",
            "Epoch    51, train loss 0.086207, train error 2.88,  val loss 0.372040, percent error 10.20\n",
            "Epoch    52, train loss 0.070533, train error 1.90,  val loss 0.372853, percent error 8.80\n",
            "Epoch    53, train loss 0.068605, train error 1.82,  val loss 0.399117, percent error 9.50\n",
            "Epoch    54, train loss 0.065900, train error 1.70,  val loss 0.372632, percent error 9.40\n",
            "Epoch    55, train loss 0.065087, train error 1.60,  val loss 0.371844, percent error 9.80\n",
            "Epoch    56, train loss 0.065428, train error 1.78,  val loss 0.388437, percent error 9.10\n",
            "Epoch    57, train loss 0.065993, train error 1.85,  val loss 0.387637, percent error 10.00\n",
            "Epoch    58, train loss 0.069286, train error 1.88,  val loss 0.402037, percent error 10.10\n",
            "Epoch    59, train loss 0.063899, train error 1.53,  val loss 0.395705, percent error 9.60\n",
            "Epoch    60, train loss 0.057361, train error 1.38,  val loss 0.385597, percent error 9.70\n",
            "Epoch    61, train loss 0.056766, train error 1.32,  val loss 0.395870, percent error 9.80\n",
            "Epoch    62, train loss 0.056450, train error 1.30,  val loss 0.398700, percent error 9.10\n",
            "Epoch    63, train loss 0.055434, train error 1.40,  val loss 0.396193, percent error 9.40\n",
            "Epoch    64, train loss 0.054978, train error 1.32,  val loss 0.395959, percent error 9.70\n",
            "Epoch    65, train loss 0.054254, train error 1.22,  val loss 0.396456, percent error 9.50\n",
            "Epoch    66, train loss 0.054500, train error 1.22,  val loss 0.402274, percent error 9.50\n",
            "Epoch    67, train loss 0.052970, train error 1.18,  val loss 0.400025, percent error 9.80\n",
            "Epoch    68, train loss 0.054134, train error 1.25,  val loss 0.405917, percent error 9.70\n",
            "Epoch    69, train loss 0.052720, train error 1.20,  val loss 0.404124, percent error 9.80\n",
            "Epoch    70, train loss 0.052130, train error 1.15,  val loss 0.410545, percent error 9.70\n",
            "Epoch    71, train loss 0.050715, train error 1.28,  val loss 0.410453, percent error 9.30\n",
            "Epoch    72, train loss 0.050242, train error 1.25,  val loss 0.409485, percent error 9.50\n",
            "Epoch    73, train loss 0.050431, train error 1.07,  val loss 0.407669, percent error 9.60\n",
            "Epoch    74, train loss 0.050503, train error 1.07,  val loss 0.415658, percent error 9.70\n",
            "Epoch    75, train loss 0.049128, train error 1.12,  val loss 0.417621, percent error 9.90\n",
            "Epoch    76, train loss 0.049008, train error 1.10,  val loss 0.409074, percent error 9.80\n",
            "Epoch    77, train loss 0.047946, train error 1.07,  val loss 0.417910, percent error 9.40\n",
            "Epoch    78, train loss 0.048430, train error 1.05,  val loss 0.415215, percent error 9.60\n",
            "Epoch    79, train loss 0.047738, train error 1.00,  val loss 0.420388, percent error 9.30\n",
            "Epoch    80, train loss 0.047621, train error 1.03,  val loss 0.425050, percent error 10.00\n",
            "Epoch    81, train loss 0.046486, train error 0.97,  val loss 0.420869, percent error 9.70\n",
            "Epoch    82, train loss 0.046431, train error 0.90,  val loss 0.422632, percent error 9.50\n",
            "Epoch    83, train loss 0.045989, train error 0.95,  val loss 0.420682, percent error 9.50\n",
            "Epoch    84, train loss 0.045910, train error 0.93,  val loss 0.425529, percent error 9.50\n",
            "Epoch    85, train loss 0.045778, train error 0.93,  val loss 0.423127, percent error 9.80\n",
            "Epoch    86, train loss 0.045599, train error 0.90,  val loss 0.424093, percent error 9.60\n",
            "Epoch    87, train loss 0.045018, train error 0.82,  val loss 0.424577, percent error 9.60\n",
            "Epoch    88, train loss 0.044879, train error 0.85,  val loss 0.425293, percent error 9.60\n",
            "Epoch    89, train loss 0.044736, train error 0.88,  val loss 0.427769, percent error 9.50\n",
            "Epoch    90, train loss 0.045064, train error 0.95,  val loss 0.433847, percent error 9.60\n",
            "Epoch    91, train loss 0.044248, train error 0.90,  val loss 0.430995, percent error 9.60\n",
            "Epoch    92, train loss 0.044658, train error 0.97,  val loss 0.426669, percent error 9.60\n",
            "Epoch    93, train loss 0.044268, train error 0.88,  val loss 0.430550, percent error 9.60\n",
            "Epoch    94, train loss 0.043835, train error 0.80,  val loss 0.428039, percent error 9.60\n",
            "Epoch    95, train loss 0.043828, train error 0.90,  val loss 0.427564, percent error 9.30\n",
            "Epoch    96, train loss 0.044384, train error 0.95,  val loss 0.434661, percent error 9.90\n",
            "Epoch    97, train loss 0.043177, train error 0.85,  val loss 0.431376, percent error 9.50\n",
            "Epoch    98, train loss 0.042922, train error 0.82,  val loss 0.432804, percent error 9.60\n",
            "Epoch    99, train loss 0.043810, train error 0.90,  val loss 0.439671, percent error 9.80\n"
          ]
        },
        {
          "data": {
            "image/png": "[encoded data removed]",
            "text/plain": [
              "<Figure size 640x480 with 1 Axes>"
            ]
          },
          "metadata": {},
          "output_type": "display_data"
        }
      ],
      "source": [
        "# choose cross entropy loss function (equation 5.24 in the loss notes)\n",
        "loss_function = nn.CrossEntropyLoss()\n",
        "# construct SGD optimizer and initialize learning rate and momentum\n",
        "optimizer = torch.optim.SGD(model.parameters(), lr = 0.05, momentum=0.9)\n",
        "# object that decreases learning rate by half every 20 epochs\n",
        "scheduler = StepLR(optimizer, step_size=20, gamma=0.5)\n",
        "# create 100 dummy data points and store in data loader class\n",
        "x_train = torch.tensor(train_data_x.transpose().astype('float32'))\n",
        "y_train = torch.tensor(train_data_y.astype('long')).long()\n",
        "x_val= torch.tensor(val_data_x.transpose().astype('float32'))\n",
        "y_val = torch.tensor(val_data_y.astype('long')).long()\n",
        "\n",
        "# load the data into a class that creates the batches\n",
        "data_loader = DataLoader(TensorDataset(x_train,y_train), batch_size=100, shuffle=True, worker_init_fn=np.random.seed(1))\n",
        "\n",
        "# Initialize model weights\n",
        "model.apply(weights_init)\n",
        "\n",
        "# loop over the dataset n_epoch times\n",
        "n_epoch = 100\n",
        "# store the loss and the % correct at each epoch\n",
        "losses_train = np.zeros((n_epoch))\n",
        "errors_train = np.zeros((n_epoch))\n",
        "losses_val = np.zeros((n_epoch))\n",
        "errors_val = np.zeros((n_epoch))\n",
        "\n",
        "for epoch in range(n_epoch):\n",
        "  # loop over batches\n",
        "  for i, data in enumerate(data_loader):\n",
        "    # retrieve inputs and labels for this batch\n",
        "    x_batch, y_batch = data\n",
        "    # zero the parameter gradients\n",
        "    optimizer.zero_grad()\n",
        "    # forward pass -- calculate model output\n",
        "    pred = model(x_batch[:,None,:])\n",
        "    # compute the loss\n",
        "    loss = loss_function(pred, y_batch)\n",
        "    # backward pass\n",
        "    loss.backward()\n",
        "    # SGD update\n",
        "    optimizer.step()\n",
        "\n",
        "  # Run whole dataset to get statistics -- normally wouldn't do this\n",
        "  pred_train = model(x_train[:,None,:])\n",
        "  pred_val = model(x_val[:,None,:])\n",
        "  _, predicted_train_class = torch.max(pred_train.data, 1)\n",
        "  _, predicted_val_class = torch.max(pred_val.data, 1)\n",
        "  errors_train[epoch] = 100 - 100 * (predicted_train_class == y_train).float().sum() / len(y_train)\n",
        "  errors_val[epoch]= 100 - 100 * (predicted_val_class == y_val).float().sum() / len(y_val)\n",
        "  losses_train[epoch] = loss_function(pred_train, y_train).item()\n",
        "  losses_val[epoch]= loss_function(pred_val, y_val).item()\n",
        "  print(f'Epoch {epoch:5d}, train loss {losses_train[epoch]:.6f}, train error {errors_train[epoch]:3.2f},  val loss {losses_val[epoch]:.6f}, percent error {errors_val[epoch]:3.2f}')\n",
        "\n",
        "  # tell scheduler to consider updating learning rate\n",
        "  scheduler.step()\n",
        "\n",
        "# Plot the results\n",
        "fig, ax = plt.subplots()\n",
        "ax.plot(errors_train,'r-',label='train')\n",
        "ax.plot(errors_val,'b-',label='validation')\n",
        "ax.set_ylim(0,100); ax.set_xlim(0,n_epoch)\n",
        "ax.set_xlabel('Epoch'); ax.set_ylabel('Error')\n",
        "ax.set_title('Part I: Validation Result %3.2f'%(errors_val[-1]))\n",
        "ax.legend()\n",
        "plt.show()"
      ]
    }
  ],
  "metadata": {
    "colab": {
      "authorship_tag": "ABX9TyNJodaaCLMRWL9vTl8B/iLI",
      "include_colab_link": true,
      "provenance": []
    },
    "kernelspec": {
      "display_name": "Python 3",
      "name": "python3"
    },
    "language_info": {
      "codemirror_mode": {
        "name": "ipython",
        "version": 3
      },
      "file_extension": ".py",
      "mimetype": "text/x-python",
      "name": "python",
      "nbconvert_exporter": "python",
      "pygments_lexer": "ipython3",
      "version": "3.11.4"
    }
  },
  "nbformat": 4,
  "nbformat_minor": 0
}
